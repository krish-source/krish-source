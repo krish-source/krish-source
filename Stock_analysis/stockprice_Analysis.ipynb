{
  "nbformat": 4,
  "nbformat_minor": 0,
  "metadata": {
    "colab": {
      "name": "stockprice_Analysis.ipynb",
      "provenance": [],
      "collapsed_sections": []
    },
    "kernelspec": {
      "name": "python3",
      "display_name": "Python 3"
    },
    "language_info": {
      "name": "python"
    }
  },
  "cells": [
    {
      "cell_type": "code",
      "metadata": {
        "id": "oOcFJHPmjqmZ"
      },
      "source": [
        "from pydrive.auth import GoogleAuth\n",
        "from pydrive.drive import GoogleDrive\n",
        "from google.colab import auth\n",
        "from oauth2client.client import GoogleCredentials\n",
        "import io\n",
        "import zipfile\n",
        "# Authenticate and create the PyDrive client.\n",
        "auth.authenticate_user()\n",
        "gauth = GoogleAuth()\n",
        "gauth.credentials = GoogleCredentials.get_application_default()\n",
        "drive = GoogleDrive(gauth)"
      ],
      "execution_count": null,
      "outputs": []
    },
    {
      "cell_type": "code",
      "metadata": {
        "id": "6gRub9v8jyaJ"
      },
      "source": [
        "file_id = 'xyz' #-- Updated File ID for my zip\n",
        "file_obj = drive.CreateFile({'id': file_id})\n",
        "file_obj.GetContentFile('Finance_Data_Exc.zip') "
      ],
      "execution_count": null,
      "outputs": []
    },
    {
      "cell_type": "code",
      "metadata": {
        "colab": {
          "base_uri": "https://localhost:8080/"
        },
        "id": "Yd7bW_OxkeSh",
        "outputId": "44516423-7579-481f-f1e8-8f956df9940a"
      },
      "source": [
        "from zipfile import ZipFile\n",
        "zip = ZipFile('Finance_Data_Exc.zip')\n",
        "zip.namelist()"
      ],
      "execution_count": null,
      "outputs": [
        {
          "output_type": "execute_result",
          "data": {
            "text/plain": [
              "['Finance_Data_Exc/PART_I_Pandas_Basics/',\n",
              " 'Finance_Data_Exc/PART_I_Pandas_Basics/AMEX.csv',\n",
              " 'Finance_Data_Exc/PART_I_Pandas_Basics/Exercise_01.ipynb',\n",
              " 'Finance_Data_Exc/PART_I_Pandas_Basics/Exercise_01_Solution.ipynb',\n",
              " 'Finance_Data_Exc/PART_I_Pandas_Basics/Exercise_02.ipynb',\n",
              " 'Finance_Data_Exc/PART_I_Pandas_Basics/Exercise_02_Solution.ipynb',\n",
              " 'Finance_Data_Exc/PART_I_Pandas_Basics/Exercise_03.ipynb',\n",
              " 'Finance_Data_Exc/PART_I_Pandas_Basics/Exercise_03_Solution.ipynb',\n",
              " 'Finance_Data_Exc/PART_I_Pandas_Basics/Exercise_04.ipynb',\n",
              " 'Finance_Data_Exc/PART_I_Pandas_Basics/Exercise_04_Solution.ipynb',\n",
              " 'Finance_Data_Exc/PART_I_Pandas_Basics/Exercise_05.ipynb',\n",
              " 'Finance_Data_Exc/PART_I_Pandas_Basics/Exercise_05_Solution.ipynb',\n",
              " 'Finance_Data_Exc/PART_I_Pandas_Basics/Exercise_06.ipynb',\n",
              " 'Finance_Data_Exc/PART_I_Pandas_Basics/Exercise_06_Solution.ipynb',\n",
              " 'Finance_Data_Exc/PART_I_Pandas_Basics/Exercise_07.ipynb',\n",
              " 'Finance_Data_Exc/PART_I_Pandas_Basics/Exercise_07_Solution.ipynb',\n",
              " 'Finance_Data_Exc/PART_I_Pandas_Basics/Exercise_08.ipynb',\n",
              " 'Finance_Data_Exc/PART_I_Pandas_Basics/Exercise_08_Solution.ipynb',\n",
              " 'Finance_Data_Exc/PART_I_Pandas_Basics/Exercise_09.ipynb',\n",
              " 'Finance_Data_Exc/PART_I_Pandas_Basics/Exercise_09_Solution.ipynb',\n",
              " 'Finance_Data_Exc/PART_I_Pandas_Basics/listings.csv',\n",
              " 'Finance_Data_Exc/PART_I_Pandas_Basics/listings_clean.csv',\n",
              " 'Finance_Data_Exc/PART_I_Pandas_Basics/matrix1.csv',\n",
              " 'Finance_Data_Exc/PART_I_Pandas_Basics/NASDAQ.csv',\n",
              " 'Finance_Data_Exc/PART_I_Pandas_Basics/NYSE.csv',\n",
              " 'Finance_Data_Exc/PART_II_Financial_Data/',\n",
              " 'Finance_Data_Exc/PART_II_Financial_Data/aapl_fb.csv',\n",
              " 'Finance_Data_Exc/PART_II_Financial_Data/djia.csv',\n",
              " 'Finance_Data_Exc/PART_II_Financial_Data/Exercise_10.ipynb',\n",
              " 'Finance_Data_Exc/PART_II_Financial_Data/Exercise_10_Solution.ipynb',\n",
              " 'Finance_Data_Exc/PART_II_Financial_Data/Exercise_11.ipynb',\n",
              " 'Finance_Data_Exc/PART_II_Financial_Data/Exercise_11_Solution.ipynb',\n",
              " 'Finance_Data_Exc/PART_II_Financial_Data/Exercise_12.ipynb',\n",
              " 'Finance_Data_Exc/PART_II_Financial_Data/Exercise_12_Solution.ipynb',\n",
              " 'Finance_Data_Exc/PART_II_Financial_Data/Exercise_13.ipynb',\n",
              " 'Finance_Data_Exc/PART_II_Financial_Data/Exercise_13_Solution.ipynb',\n",
              " 'Finance_Data_Exc/PART_II_Financial_Data/Exercise_14.ipynb',\n",
              " 'Finance_Data_Exc/PART_II_Financial_Data/Exercise_14_Solution.ipynb',\n",
              " 'Finance_Data_Exc/PART_II_Financial_Data/Exercise_15.ipynb',\n",
              " 'Finance_Data_Exc/PART_II_Financial_Data/Exercise_15_Solution.ipynb',\n",
              " 'Finance_Data_Exc/PART_II_Financial_Data/Exercise_16.ipynb',\n",
              " 'Finance_Data_Exc/PART_II_Financial_Data/Exercise_16_Solution.ipynb',\n",
              " 'Finance_Data_Exc/PART_II_Financial_Data/listings_clean.csv',\n",
              " 'Finance_Data_Exc/PART_II_Financial_Data/mcap_weights.csv',\n",
              " 'Finance_Data_Exc/PART_II_Financial_Data/SP500.csv',\n",
              " 'Finance_Data_Exc/PART_II_Financial_Data/sp500_djia.csv',\n",
              " 'Finance_Data_Exc/PART_II_Financial_Data/SP500_TR.csv',\n",
              " 'Finance_Data_Exc/PART_II_Financial_Data/us_stocks.csv']"
            ]
          },
          "metadata": {},
          "execution_count": 3
        }
      ]
    },
    {
      "cell_type": "code",
      "metadata": {
        "id": "4aoDSa3WlSpn"
      },
      "source": [
        "csvfile = zip.open('Finance_Data_Exc/PART_II_Financial_Data/us_stocks.csv')"
      ],
      "execution_count": null,
      "outputs": []
    },
    {
      "cell_type": "code",
      "metadata": {
        "id": "rNJeg3fOnMyE"
      },
      "source": [
        "import pandas as pd\n",
        "import numpy as np\n",
        "import matplotlib.pyplot as plt\n",
        "\n"
      ],
      "execution_count": null,
      "outputs": []
    },
    {
      "cell_type": "code",
      "metadata": {
        "id": "R5REb_LQoOSN"
      },
      "source": [
        "stocks = pd.read_csv(csvfile, header = [0,1], index_col= [0], parse_dates= [0])"
      ],
      "execution_count": null,
      "outputs": []
    },
    {
      "cell_type": "code",
      "metadata": {
        "id": "Vz81NZJyqprl"
      },
      "source": [
        "stocks = stocks.loc[\"31-12-2015\":\"31-12-2018\", \"Adj Close\"]"
      ],
      "execution_count": null,
      "outputs": []
    },
    {
      "cell_type": "code",
      "metadata": {
        "colab": {
          "base_uri": "https://localhost:8080/",
          "height": 235
        },
        "id": "A5i-Rrq5rK3Y",
        "outputId": "6ebf06db-1dcc-4254-c683-b3f870ed71bd"
      },
      "source": [
        "stocks.head(5)"
      ],
      "execution_count": null,
      "outputs": [
        {
          "output_type": "execute_result",
          "data": {
            "text/html": [
              "<div>\n",
              "<style scoped>\n",
              "    .dataframe tbody tr th:only-of-type {\n",
              "        vertical-align: middle;\n",
              "    }\n",
              "\n",
              "    .dataframe tbody tr th {\n",
              "        vertical-align: top;\n",
              "    }\n",
              "\n",
              "    .dataframe thead th {\n",
              "        text-align: right;\n",
              "    }\n",
              "</style>\n",
              "<table border=\"1\" class=\"dataframe\">\n",
              "  <thead>\n",
              "    <tr style=\"text-align: right;\">\n",
              "      <th></th>\n",
              "      <th>AXP</th>\n",
              "      <th>FB</th>\n",
              "      <th>INTC</th>\n",
              "      <th>MCD</th>\n",
              "      <th>PG</th>\n",
              "      <th>WMT</th>\n",
              "    </tr>\n",
              "    <tr>\n",
              "      <th>Date</th>\n",
              "      <th></th>\n",
              "      <th></th>\n",
              "      <th></th>\n",
              "      <th></th>\n",
              "      <th></th>\n",
              "      <th></th>\n",
              "    </tr>\n",
              "  </thead>\n",
              "  <tbody>\n",
              "    <tr>\n",
              "      <th>2015-12-31</th>\n",
              "      <td>65.910294</td>\n",
              "      <td>104.660004</td>\n",
              "      <td>31.437597</td>\n",
              "      <td>108.968636</td>\n",
              "      <td>71.450706</td>\n",
              "      <td>56.722713</td>\n",
              "    </tr>\n",
              "    <tr>\n",
              "      <th>2016-01-04</th>\n",
              "      <td>64.052849</td>\n",
              "      <td>102.220001</td>\n",
              "      <td>31.017828</td>\n",
              "      <td>108.452126</td>\n",
              "      <td>70.514938</td>\n",
              "      <td>56.870766</td>\n",
              "    </tr>\n",
              "    <tr>\n",
              "      <th>2016-01-05</th>\n",
              "      <td>63.067310</td>\n",
              "      <td>102.730003</td>\n",
              "      <td>30.871820</td>\n",
              "      <td>109.946350</td>\n",
              "      <td>70.739891</td>\n",
              "      <td>58.221748</td>\n",
              "    </tr>\n",
              "    <tr>\n",
              "      <th>2016-01-06</th>\n",
              "      <td>61.315948</td>\n",
              "      <td>102.970001</td>\n",
              "      <td>30.187403</td>\n",
              "      <td>109.208458</td>\n",
              "      <td>70.056053</td>\n",
              "      <td>58.804699</td>\n",
              "    </tr>\n",
              "    <tr>\n",
              "      <th>2016-01-07</th>\n",
              "      <td>60.763893</td>\n",
              "      <td>97.919998</td>\n",
              "      <td>29.055828</td>\n",
              "      <td>106.681190</td>\n",
              "      <td>69.444221</td>\n",
              "      <td>60.174198</td>\n",
              "    </tr>\n",
              "  </tbody>\n",
              "</table>\n",
              "</div>"
            ],
            "text/plain": [
              "                  AXP          FB       INTC         MCD         PG        WMT\n",
              "Date                                                                          \n",
              "2015-12-31  65.910294  104.660004  31.437597  108.968636  71.450706  56.722713\n",
              "2016-01-04  64.052849  102.220001  31.017828  108.452126  70.514938  56.870766\n",
              "2016-01-05  63.067310  102.730003  30.871820  109.946350  70.739891  58.221748\n",
              "2016-01-06  61.315948  102.970001  30.187403  109.208458  70.056053  58.804699\n",
              "2016-01-07  60.763893   97.919998  29.055828  106.681190  69.444221  60.174198"
            ]
          },
          "metadata": {},
          "execution_count": 8
        }
      ]
    },
    {
      "cell_type": "code",
      "metadata": {
        "colab": {
          "base_uri": "https://localhost:8080/"
        },
        "id": "uSTnATwkrN3Q",
        "outputId": "df05e843-fde7-4045-c69d-48979c26a0ef"
      },
      "source": [
        "stocks.info()"
      ],
      "execution_count": null,
      "outputs": [
        {
          "output_type": "stream",
          "text": [
            "<class 'pandas.core.frame.DataFrame'>\n",
            "DatetimeIndex: 754 entries, 2015-12-31 to 2018-12-28\n",
            "Data columns (total 6 columns):\n",
            " #   Column  Non-Null Count  Dtype  \n",
            "---  ------  --------------  -----  \n",
            " 0   AXP     754 non-null    float64\n",
            " 1   FB      754 non-null    float64\n",
            " 2   INTC    754 non-null    float64\n",
            " 3   MCD     754 non-null    float64\n",
            " 4   PG      754 non-null    float64\n",
            " 5   WMT     754 non-null    float64\n",
            "dtypes: float64(6)\n",
            "memory usage: 41.2 KB\n"
          ],
          "name": "stdout"
        }
      ]
    },
    {
      "cell_type": "code",
      "metadata": {
        "colab": {
          "base_uri": "https://localhost:8080/",
          "height": 473
        },
        "id": "EXS1z801rsir",
        "outputId": "468b45ed-2900-455a-cfa1-64f3d17f1a94"
      },
      "source": [
        "stocks.plot(figsize = (12,8))\n",
        "plt.show()"
      ],
      "execution_count": null,
      "outputs": [
        {
          "output_type": "display_data",
          "data": {
            "image/png": "[encoded data removed]",
            "text/plain": [
              "<Figure size 864x576 with 1 Axes>"
            ]
          },
          "metadata": {
            "needs_background": "light"
          }
        }
      ]
    },
    {
      "cell_type": "code",
      "metadata": {
        "id": "y-2HWyIKsB43"
      },
      "source": [
        "stock_m = stocks.resample(\"M\").last()"
      ],
      "execution_count": null,
      "outputs": []
    },
    {
      "cell_type": "code",
      "metadata": {
        "colab": {
          "base_uri": "https://localhost:8080/",
          "height": 235
        },
        "id": "g5q0c3qkong5",
        "outputId": "baaf5a1d-dace-479f-c8dc-697511184be1"
      },
      "source": [
        "stock_m.head()"
      ],
      "execution_count": null,
      "outputs": [
        {
          "output_type": "execute_result",
          "data": {
            "text/html": [
              "<div>\n",
              "<style scoped>\n",
              "    .dataframe tbody tr th:only-of-type {\n",
              "        vertical-align: middle;\n",
              "    }\n",
              "\n",
              "    .dataframe tbody tr th {\n",
              "        vertical-align: top;\n",
              "    }\n",
              "\n",
              "    .dataframe thead th {\n",
              "        text-align: right;\n",
              "    }\n",
              "</style>\n",
              "<table border=\"1\" class=\"dataframe\">\n",
              "  <thead>\n",
              "    <tr style=\"text-align: right;\">\n",
              "      <th></th>\n",
              "      <th>AXP</th>\n",
              "      <th>FB</th>\n",
              "      <th>INTC</th>\n",
              "      <th>MCD</th>\n",
              "      <th>PG</th>\n",
              "      <th>WMT</th>\n",
              "    </tr>\n",
              "    <tr>\n",
              "      <th>Date</th>\n",
              "      <th></th>\n",
              "      <th></th>\n",
              "      <th></th>\n",
              "      <th></th>\n",
              "      <th></th>\n",
              "      <th></th>\n",
              "    </tr>\n",
              "  </thead>\n",
              "  <tbody>\n",
              "    <tr>\n",
              "      <th>2015-12-31</th>\n",
              "      <td>65.910294</td>\n",
              "      <td>104.660004</td>\n",
              "      <td>31.437597</td>\n",
              "      <td>108.968636</td>\n",
              "      <td>71.450706</td>\n",
              "      <td>56.722713</td>\n",
              "    </tr>\n",
              "    <tr>\n",
              "      <th>2016-01-31</th>\n",
              "      <td>50.922123</td>\n",
              "      <td>112.209999</td>\n",
              "      <td>28.307537</td>\n",
              "      <td>114.170799</td>\n",
              "      <td>74.142738</td>\n",
              "      <td>61.404896</td>\n",
              "    </tr>\n",
              "    <tr>\n",
              "      <th>2016-02-29</th>\n",
              "      <td>52.901901</td>\n",
              "      <td>106.919998</td>\n",
              "      <td>27.240244</td>\n",
              "      <td>108.911270</td>\n",
              "      <td>72.872086</td>\n",
              "      <td>61.386375</td>\n",
              "    </tr>\n",
              "    <tr>\n",
              "      <th>2016-03-31</th>\n",
              "      <td>58.441471</td>\n",
              "      <td>114.099998</td>\n",
              "      <td>29.781067</td>\n",
              "      <td>116.801506</td>\n",
              "      <td>74.705444</td>\n",
              "      <td>63.844990</td>\n",
              "    </tr>\n",
              "    <tr>\n",
              "      <th>2016-04-30</th>\n",
              "      <td>62.578789</td>\n",
              "      <td>117.580002</td>\n",
              "      <td>27.875446</td>\n",
              "      <td>117.554268</td>\n",
              "      <td>73.313026</td>\n",
              "      <td>62.334877</td>\n",
              "    </tr>\n",
              "  </tbody>\n",
              "</table>\n",
              "</div>"
            ],
            "text/plain": [
              "                  AXP          FB       INTC         MCD         PG        WMT\n",
              "Date                                                                          \n",
              "2015-12-31  65.910294  104.660004  31.437597  108.968636  71.450706  56.722713\n",
              "2016-01-31  50.922123  112.209999  28.307537  114.170799  74.142738  61.404896\n",
              "2016-02-29  52.901901  106.919998  27.240244  108.911270  72.872086  61.386375\n",
              "2016-03-31  58.441471  114.099998  29.781067  116.801506  74.705444  63.844990\n",
              "2016-04-30  62.578789  117.580002  27.875446  117.554268  73.313026  62.334877"
            ]
          },
          "metadata": {},
          "execution_count": 12
        }
      ]
    },
    {
      "cell_type": "code",
      "metadata": {
        "id": "3aanlum9oqdZ"
      },
      "source": [
        "ret = stock_m.pct_change().dropna()"
      ],
      "execution_count": null,
      "outputs": []
    },
    {
      "cell_type": "code",
      "metadata": {
        "colab": {
          "base_uri": "https://localhost:8080/",
          "height": 235
        },
        "id": "xDsWkOWapJvm",
        "outputId": "d6d7f7c6-66ba-400c-ddfe-34ed82abbd43"
      },
      "source": [
        "ret.head()"
      ],
      "execution_count": null,
      "outputs": [
        {
          "output_type": "execute_result",
          "data": {
            "text/html": [
              "<div>\n",
              "<style scoped>\n",
              "    .dataframe tbody tr th:only-of-type {\n",
              "        vertical-align: middle;\n",
              "    }\n",
              "\n",
              "    .dataframe tbody tr th {\n",
              "        vertical-align: top;\n",
              "    }\n",
              "\n",
              "    .dataframe thead th {\n",
              "        text-align: right;\n",
              "    }\n",
              "</style>\n",
              "<table border=\"1\" class=\"dataframe\">\n",
              "  <thead>\n",
              "    <tr style=\"text-align: right;\">\n",
              "      <th></th>\n",
              "      <th>AXP</th>\n",
              "      <th>FB</th>\n",
              "      <th>INTC</th>\n",
              "      <th>MCD</th>\n",
              "      <th>PG</th>\n",
              "      <th>WMT</th>\n",
              "    </tr>\n",
              "    <tr>\n",
              "      <th>Date</th>\n",
              "      <th></th>\n",
              "      <th></th>\n",
              "      <th></th>\n",
              "      <th></th>\n",
              "      <th></th>\n",
              "      <th></th>\n",
              "    </tr>\n",
              "  </thead>\n",
              "  <tbody>\n",
              "    <tr>\n",
              "      <th>2016-01-31</th>\n",
              "      <td>-0.227403</td>\n",
              "      <td>0.072138</td>\n",
              "      <td>-0.099564</td>\n",
              "      <td>0.047740</td>\n",
              "      <td>0.037677</td>\n",
              "      <td>0.082545</td>\n",
              "    </tr>\n",
              "    <tr>\n",
              "      <th>2016-02-29</th>\n",
              "      <td>0.038879</td>\n",
              "      <td>-0.047144</td>\n",
              "      <td>-0.037703</td>\n",
              "      <td>-0.046067</td>\n",
              "      <td>-0.017138</td>\n",
              "      <td>-0.000302</td>\n",
              "    </tr>\n",
              "    <tr>\n",
              "      <th>2016-03-31</th>\n",
              "      <td>0.104714</td>\n",
              "      <td>0.067153</td>\n",
              "      <td>0.093275</td>\n",
              "      <td>0.072446</td>\n",
              "      <td>0.025159</td>\n",
              "      <td>0.040051</td>\n",
              "    </tr>\n",
              "    <tr>\n",
              "      <th>2016-04-30</th>\n",
              "      <td>0.070794</td>\n",
              "      <td>0.030500</td>\n",
              "      <td>-0.063988</td>\n",
              "      <td>0.006445</td>\n",
              "      <td>-0.018639</td>\n",
              "      <td>-0.023653</td>\n",
              "    </tr>\n",
              "    <tr>\n",
              "      <th>2016-05-31</th>\n",
              "      <td>0.005044</td>\n",
              "      <td>0.010461</td>\n",
              "      <td>0.052274</td>\n",
              "      <td>-0.035022</td>\n",
              "      <td>0.011483</td>\n",
              "      <td>0.066221</td>\n",
              "    </tr>\n",
              "  </tbody>\n",
              "</table>\n",
              "</div>"
            ],
            "text/plain": [
              "                 AXP        FB      INTC       MCD        PG       WMT\n",
              "Date                                                                  \n",
              "2016-01-31 -0.227403  0.072138 -0.099564  0.047740  0.037677  0.082545\n",
              "2016-02-29  0.038879 -0.047144 -0.037703 -0.046067 -0.017138 -0.000302\n",
              "2016-03-31  0.104714  0.067153  0.093275  0.072446  0.025159  0.040051\n",
              "2016-04-30  0.070794  0.030500 -0.063988  0.006445 -0.018639 -0.023653\n",
              "2016-05-31  0.005044  0.010461  0.052274 -0.035022  0.011483  0.066221"
            ]
          },
          "metadata": {},
          "execution_count": 14
        }
      ]
    },
    {
      "cell_type": "code",
      "metadata": {
        "colab": {
          "base_uri": "https://localhost:8080/"
        },
        "id": "XgpAgwDEphkQ",
        "outputId": "e4f21041-09e6-4e5b-9d07-06b6c0890426"
      },
      "source": [
        "ret.info()"
      ],
      "execution_count": null,
      "outputs": [
        {
          "output_type": "stream",
          "text": [
            "<class 'pandas.core.frame.DataFrame'>\n",
            "DatetimeIndex: 36 entries, 2016-01-31 to 2018-12-31\n",
            "Freq: M\n",
            "Data columns (total 6 columns):\n",
            " #   Column  Non-Null Count  Dtype  \n",
            "---  ------  --------------  -----  \n",
            " 0   AXP     36 non-null     float64\n",
            " 1   FB      36 non-null     float64\n",
            " 2   INTC    36 non-null     float64\n",
            " 3   MCD     36 non-null     float64\n",
            " 4   PG      36 non-null     float64\n",
            " 5   WMT     36 non-null     float64\n",
            "dtypes: float64(6)\n",
            "memory usage: 2.0 KB\n"
          ],
          "name": "stdout"
        }
      ]
    },
    {
      "cell_type": "code",
      "metadata": {
        "colab": {
          "base_uri": "https://localhost:8080/",
          "height": 297
        },
        "id": "m3vVxiiOpjzC",
        "outputId": "6064b626-9ca9-4362-f180-925b00719697"
      },
      "source": [
        "ret.describe()"
      ],
      "execution_count": null,
      "outputs": [
        {
          "output_type": "execute_result",
          "data": {
            "text/html": [
              "<div>\n",
              "<style scoped>\n",
              "    .dataframe tbody tr th:only-of-type {\n",
              "        vertical-align: middle;\n",
              "    }\n",
              "\n",
              "    .dataframe tbody tr th {\n",
              "        vertical-align: top;\n",
              "    }\n",
              "\n",
              "    .dataframe thead th {\n",
              "        text-align: right;\n",
              "    }\n",
              "</style>\n",
              "<table border=\"1\" class=\"dataframe\">\n",
              "  <thead>\n",
              "    <tr style=\"text-align: right;\">\n",
              "      <th></th>\n",
              "      <th>AXP</th>\n",
              "      <th>FB</th>\n",
              "      <th>INTC</th>\n",
              "      <th>MCD</th>\n",
              "      <th>PG</th>\n",
              "      <th>WMT</th>\n",
              "    </tr>\n",
              "  </thead>\n",
              "  <tbody>\n",
              "    <tr>\n",
              "      <th>count</th>\n",
              "      <td>36.000000</td>\n",
              "      <td>36.000000</td>\n",
              "      <td>36.000000</td>\n",
              "      <td>36.000000</td>\n",
              "      <td>36.000000</td>\n",
              "      <td>36.000000</td>\n",
              "    </tr>\n",
              "    <tr>\n",
              "      <th>mean</th>\n",
              "      <td>0.012162</td>\n",
              "      <td>0.008656</td>\n",
              "      <td>0.012559</td>\n",
              "      <td>0.014179</td>\n",
              "      <td>0.007358</td>\n",
              "      <td>0.014997</td>\n",
              "    </tr>\n",
              "    <tr>\n",
              "      <th>std</th>\n",
              "      <td>0.065456</td>\n",
              "      <td>0.063183</td>\n",
              "      <td>0.058963</td>\n",
              "      <td>0.041817</td>\n",
              "      <td>0.039945</td>\n",
              "      <td>0.054054</td>\n",
              "    </tr>\n",
              "    <tr>\n",
              "      <th>min</th>\n",
              "      <td>-0.227403</td>\n",
              "      <td>-0.111877</td>\n",
              "      <td>-0.099564</td>\n",
              "      <td>-0.072468</td>\n",
              "      <td>-0.090572</td>\n",
              "      <td>-0.155629</td>\n",
              "    </tr>\n",
              "    <tr>\n",
              "      <th>25%</th>\n",
              "      <td>-0.006384</td>\n",
              "      <td>-0.040060</td>\n",
              "      <td>-0.013250</td>\n",
              "      <td>-0.010588</td>\n",
              "      <td>-0.017513</td>\n",
              "      <td>-0.018484</td>\n",
              "    </tr>\n",
              "    <tr>\n",
              "      <th>50%</th>\n",
              "      <td>0.016875</td>\n",
              "      <td>0.014658</td>\n",
              "      <td>0.009647</td>\n",
              "      <td>0.009956</td>\n",
              "      <td>0.013724</td>\n",
              "      <td>0.007687</td>\n",
              "    </tr>\n",
              "    <tr>\n",
              "      <th>75%</th>\n",
              "      <td>0.052982</td>\n",
              "      <td>0.054769</td>\n",
              "      <td>0.051412</td>\n",
              "      <td>0.048083</td>\n",
              "      <td>0.038161</td>\n",
              "      <td>0.053603</td>\n",
              "    </tr>\n",
              "    <tr>\n",
              "      <th>max</th>\n",
              "      <td>0.104714</td>\n",
              "      <td>0.132725</td>\n",
              "      <td>0.194590</td>\n",
              "      <td>0.079624</td>\n",
              "      <td>0.074899</td>\n",
              "      <td>0.117353</td>\n",
              "    </tr>\n",
              "  </tbody>\n",
              "</table>\n",
              "</div>"
            ],
            "text/plain": [
              "             AXP         FB       INTC        MCD         PG        WMT\n",
              "count  36.000000  36.000000  36.000000  36.000000  36.000000  36.000000\n",
              "mean    0.012162   0.008656   0.012559   0.014179   0.007358   0.014997\n",
              "std     0.065456   0.063183   0.058963   0.041817   0.039945   0.054054\n",
              "min    -0.227403  -0.111877  -0.099564  -0.072468  -0.090572  -0.155629\n",
              "25%    -0.006384  -0.040060  -0.013250  -0.010588  -0.017513  -0.018484\n",
              "50%     0.016875   0.014658   0.009647   0.009956   0.013724   0.007687\n",
              "75%     0.052982   0.054769   0.051412   0.048083   0.038161   0.053603\n",
              "max     0.104714   0.132725   0.194590   0.079624   0.074899   0.117353"
            ]
          },
          "metadata": {},
          "execution_count": 16
        }
      ]
    },
    {
      "cell_type": "code",
      "metadata": {
        "id": "aUptk5T2prM1"
      },
      "source": [
        "summary = ret.agg([\"mean\", \"std\"]).T"
      ],
      "execution_count": null,
      "outputs": []
    },
    {
      "cell_type": "code",
      "metadata": {
        "colab": {
          "base_uri": "https://localhost:8080/",
          "height": 204
        },
        "id": "ACZeYP4np9cj",
        "outputId": "27fdf4cd-ecdf-473b-891f-9a489a1b3c0b"
      },
      "source": [
        "summary.head()"
      ],
      "execution_count": null,
      "outputs": [
        {
          "output_type": "execute_result",
          "data": {
            "text/html": [
              "<div>\n",
              "<style scoped>\n",
              "    .dataframe tbody tr th:only-of-type {\n",
              "        vertical-align: middle;\n",
              "    }\n",
              "\n",
              "    .dataframe tbody tr th {\n",
              "        vertical-align: top;\n",
              "    }\n",
              "\n",
              "    .dataframe thead th {\n",
              "        text-align: right;\n",
              "    }\n",
              "</style>\n",
              "<table border=\"1\" class=\"dataframe\">\n",
              "  <thead>\n",
              "    <tr style=\"text-align: right;\">\n",
              "      <th></th>\n",
              "      <th>mean</th>\n",
              "      <th>std</th>\n",
              "    </tr>\n",
              "  </thead>\n",
              "  <tbody>\n",
              "    <tr>\n",
              "      <th>AXP</th>\n",
              "      <td>0.012162</td>\n",
              "      <td>0.065456</td>\n",
              "    </tr>\n",
              "    <tr>\n",
              "      <th>FB</th>\n",
              "      <td>0.008656</td>\n",
              "      <td>0.063183</td>\n",
              "    </tr>\n",
              "    <tr>\n",
              "      <th>INTC</th>\n",
              "      <td>0.012559</td>\n",
              "      <td>0.058963</td>\n",
              "    </tr>\n",
              "    <tr>\n",
              "      <th>MCD</th>\n",
              "      <td>0.014179</td>\n",
              "      <td>0.041817</td>\n",
              "    </tr>\n",
              "    <tr>\n",
              "      <th>PG</th>\n",
              "      <td>0.007358</td>\n",
              "      <td>0.039945</td>\n",
              "    </tr>\n",
              "  </tbody>\n",
              "</table>\n",
              "</div>"
            ],
            "text/plain": [
              "          mean       std\n",
              "AXP   0.012162  0.065456\n",
              "FB    0.008656  0.063183\n",
              "INTC  0.012559  0.058963\n",
              "MCD   0.014179  0.041817\n",
              "PG    0.007358  0.039945"
            ]
          },
          "metadata": {},
          "execution_count": 23
        }
      ]
    },
    {
      "cell_type": "code",
      "metadata": {
        "id": "Eya8C5opvOJw"
      },
      "source": [
        "summary[\"mean\"] = summary[\"mean\"]*12\n",
        "summary[\"std\"] = summary[\"std\"]*np.sqrt(12)"
      ],
      "execution_count": null,
      "outputs": []
    },
    {
      "cell_type": "code",
      "metadata": {
        "colab": {
          "base_uri": "https://localhost:8080/",
          "height": 266
        },
        "id": "Qnx-E-qjvxd3",
        "outputId": "c30b91f5-7164-4584-c2d2-705269d7e9a3"
      },
      "source": [
        "summary"
      ],
      "execution_count": null,
      "outputs": [
        {
          "output_type": "execute_result",
          "data": {
            "text/html": [
              "<div>\n",
              "<style scoped>\n",
              "    .dataframe tbody tr th:only-of-type {\n",
              "        vertical-align: middle;\n",
              "    }\n",
              "\n",
              "    .dataframe tbody tr th {\n",
              "        vertical-align: top;\n",
              "    }\n",
              "\n",
              "    .dataframe thead th {\n",
              "        text-align: right;\n",
              "    }\n",
              "</style>\n",
              "<table border=\"1\" class=\"dataframe\">\n",
              "  <thead>\n",
              "    <tr style=\"text-align: right;\">\n",
              "      <th></th>\n",
              "      <th>mean</th>\n",
              "      <th>std</th>\n",
              "    </tr>\n",
              "    <tr>\n",
              "      <th>Stock</th>\n",
              "      <th></th>\n",
              "      <th></th>\n",
              "    </tr>\n",
              "  </thead>\n",
              "  <tbody>\n",
              "    <tr>\n",
              "      <th>AXP</th>\n",
              "      <td>0.145942</td>\n",
              "      <td>0.226748</td>\n",
              "    </tr>\n",
              "    <tr>\n",
              "      <th>FB</th>\n",
              "      <td>0.103868</td>\n",
              "      <td>0.218871</td>\n",
              "    </tr>\n",
              "    <tr>\n",
              "      <th>INTC</th>\n",
              "      <td>0.150712</td>\n",
              "      <td>0.204255</td>\n",
              "    </tr>\n",
              "    <tr>\n",
              "      <th>MCD</th>\n",
              "      <td>0.170144</td>\n",
              "      <td>0.144859</td>\n",
              "    </tr>\n",
              "    <tr>\n",
              "      <th>PG</th>\n",
              "      <td>0.088297</td>\n",
              "      <td>0.138374</td>\n",
              "    </tr>\n",
              "    <tr>\n",
              "      <th>WMT</th>\n",
              "      <td>0.179962</td>\n",
              "      <td>0.187247</td>\n",
              "    </tr>\n",
              "  </tbody>\n",
              "</table>\n",
              "</div>"
            ],
            "text/plain": [
              "           mean       std\n",
              "Stock                    \n",
              "AXP    0.145942  0.226748\n",
              "FB     0.103868  0.218871\n",
              "INTC   0.150712  0.204255\n",
              "MCD    0.170144  0.144859\n",
              "PG     0.088297  0.138374\n",
              "WMT    0.179962  0.187247"
            ]
          },
          "metadata": {},
          "execution_count": 42
        }
      ]
    },
    {
      "cell_type": "code",
      "metadata": {
        "colab": {
          "base_uri": "https://localhost:8080/",
          "height": 528
        },
        "id": "TRj31I84v8If",
        "outputId": "1813181e-0905-45eb-910c-186e98fb43aa"
      },
      "source": [
        "summary.plot(kind = \"scatter\", x = \"std\", y = \"mean\", figsize = (12, 8), s = 50, fontsize = 15, xlim = (0.1, 0.3), ylim = (0, 0.25))\n",
        "for i in summary.index:\n",
        "  plt.annotate(i, xy=(summary.loc[i, \"std\"]+0.002, summary.loc[i, \"mean\"]+0.002), size = 15)\n",
        "plt.xlabel(\"ann. Risk(std)\", fontsize = 15)\n",
        "plt.ylabel(\"ann. Return\", fontsize = 15)\n",
        "plt.title(\"Risk/Return\", fontsize = 20)\n",
        "plt.show()"
      ],
      "execution_count": null,
      "outputs": [
        {
          "output_type": "display_data",
          "data": {
            "image/png": "[encoded data removed]",
            "text/plain": [
              "<Figure size 864x576 with 1 Axes>"
            ]
          },
          "metadata": {
            "needs_background": "light"
          }
        }
      ]
    },
    {
      "cell_type": "code",
      "metadata": {
        "colab": {
          "base_uri": "https://localhost:8080/",
          "height": 235
        },
        "id": "goq2oRAkILQ9",
        "outputId": "5ef608be-a2be-43c3-819f-29cc8941716c"
      },
      "source": [
        "ret.corr()"
      ],
      "execution_count": null,
      "outputs": [
        {
          "output_type": "execute_result",
          "data": {
            "text/html": [
              "<div>\n",
              "<style scoped>\n",
              "    .dataframe tbody tr th:only-of-type {\n",
              "        vertical-align: middle;\n",
              "    }\n",
              "\n",
              "    .dataframe tbody tr th {\n",
              "        vertical-align: top;\n",
              "    }\n",
              "\n",
              "    .dataframe thead th {\n",
              "        text-align: right;\n",
              "    }\n",
              "</style>\n",
              "<table border=\"1\" class=\"dataframe\">\n",
              "  <thead>\n",
              "    <tr style=\"text-align: right;\">\n",
              "      <th></th>\n",
              "      <th>AXP</th>\n",
              "      <th>FB</th>\n",
              "      <th>INTC</th>\n",
              "      <th>MCD</th>\n",
              "      <th>PG</th>\n",
              "      <th>WMT</th>\n",
              "    </tr>\n",
              "  </thead>\n",
              "  <tbody>\n",
              "    <tr>\n",
              "      <th>AXP</th>\n",
              "      <td>1.000000</td>\n",
              "      <td>0.068655</td>\n",
              "      <td>0.306292</td>\n",
              "      <td>0.261880</td>\n",
              "      <td>-0.099335</td>\n",
              "      <td>-0.048483</td>\n",
              "    </tr>\n",
              "    <tr>\n",
              "      <th>FB</th>\n",
              "      <td>0.068655</td>\n",
              "      <td>1.000000</td>\n",
              "      <td>0.169326</td>\n",
              "      <td>0.069091</td>\n",
              "      <td>-0.008261</td>\n",
              "      <td>0.149272</td>\n",
              "    </tr>\n",
              "    <tr>\n",
              "      <th>INTC</th>\n",
              "      <td>0.306292</td>\n",
              "      <td>0.169326</td>\n",
              "      <td>1.000000</td>\n",
              "      <td>0.084089</td>\n",
              "      <td>-0.074533</td>\n",
              "      <td>0.129686</td>\n",
              "    </tr>\n",
              "    <tr>\n",
              "      <th>MCD</th>\n",
              "      <td>0.261880</td>\n",
              "      <td>0.069091</td>\n",
              "      <td>0.084089</td>\n",
              "      <td>1.000000</td>\n",
              "      <td>0.177252</td>\n",
              "      <td>0.505501</td>\n",
              "    </tr>\n",
              "    <tr>\n",
              "      <th>PG</th>\n",
              "      <td>-0.099335</td>\n",
              "      <td>-0.008261</td>\n",
              "      <td>-0.074533</td>\n",
              "      <td>0.177252</td>\n",
              "      <td>1.000000</td>\n",
              "      <td>0.359595</td>\n",
              "    </tr>\n",
              "    <tr>\n",
              "      <th>WMT</th>\n",
              "      <td>-0.048483</td>\n",
              "      <td>0.149272</td>\n",
              "      <td>0.129686</td>\n",
              "      <td>0.505501</td>\n",
              "      <td>0.359595</td>\n",
              "      <td>1.000000</td>\n",
              "    </tr>\n",
              "  </tbody>\n",
              "</table>\n",
              "</div>"
            ],
            "text/plain": [
              "           AXP        FB      INTC       MCD        PG       WMT\n",
              "AXP   1.000000  0.068655  0.306292  0.261880 -0.099335 -0.048483\n",
              "FB    0.068655  1.000000  0.169326  0.069091 -0.008261  0.149272\n",
              "INTC  0.306292  0.169326  1.000000  0.084089 -0.074533  0.129686\n",
              "MCD   0.261880  0.069091  0.084089  1.000000  0.177252  0.505501\n",
              "PG   -0.099335 -0.008261 -0.074533  0.177252  1.000000  0.359595\n",
              "WMT  -0.048483  0.149272  0.129686  0.505501  0.359595  1.000000"
            ]
          },
          "metadata": {},
          "execution_count": 45
        }
      ]
    },
    {
      "cell_type": "code",
      "metadata": {
        "id": "Wsh3PK_RI0no"
      },
      "source": [
        "import seaborn as sns"
      ],
      "execution_count": null,
      "outputs": []
    },
    {
      "cell_type": "code",
      "metadata": {
        "colab": {
          "base_uri": "https://localhost:8080/",
          "height": 489
        },
        "id": "bvfwaAddG8D-",
        "outputId": "52d34dc9-347f-4e76-87c8-090b6505f81e"
      },
      "source": [
        "plt.figure(figsize=(14,8))\n",
        "sns.set(font_scale=1.0)\n",
        "sns.heatmap(ret.corr(), cmap = \"RdYlGn\", annot = True, vmin = -0.5, vmax = 0.6, center = 0)\n",
        "plt.show()"
      ],
      "execution_count": null,
      "outputs": [
        {
          "output_type": "display_data",
          "data": {
            "image/png": "[encoded data removed]",
            "text/plain": [
              "<Figure size 1008x576 with 2 Axes>"
            ]
          },
          "metadata": {}
        }
      ]
    }
  ]
}
