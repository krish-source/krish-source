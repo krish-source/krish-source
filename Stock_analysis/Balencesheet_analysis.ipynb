{
  "nbformat": 4,
  "nbformat_minor": 0,
  "metadata": {
    "colab": {
      "name": "Balencesheet_analysis.ipynb",
      "provenance": [],
      "collapsed_sections": []
    },
    "kernelspec": {
      "name": "python3",
      "display_name": "Python 3"
    },
    "language_info": {
      "name": "python"
    }
  },
  "cells": [
    {
      "cell_type": "code",
      "metadata": {
        "id": "lCqoIsLUq9vt"
      },
      "source": [
        "pip install yahoo-fin"
      ],
      "execution_count": null,
      "outputs": []
    },
    {
      "cell_type": "code",
      "metadata": {
        "id": "IZ3MmlZQrFqQ"
      },
      "source": [
        "import yahoo_fin.stock_info as yf\n",
        "import pandas as pd\n",
        "import numpy as np\n"
      ],
      "execution_count": null,
      "outputs": []
    },
    {
      "cell_type": "code",
      "metadata": {
        "id": "8uVqx53XrjXV"
      },
      "source": [
        "ticker = 'HDB'\n",
        "company = \"HDFC Bank Limited (HDB)\""
      ],
      "execution_count": null,
      "outputs": []
    },
    {
      "cell_type": "code",
      "metadata": {
        "id": "V6yy6NE8t7dk"
      },
      "source": [
        "bal_sheet = yf.get_balance_sheet(ticker,yearly=True)"
      ],
      "execution_count": null,
      "outputs": []
    },
    {
      "cell_type": "code",
      "metadata": {
        "id": "BH6tCMjyuEhv"
      },
      "source": [
        "bal_sheet"
      ],
      "execution_count": null,
      "outputs": []
    },
    {
      "cell_type": "code",
      "metadata": {
        "colab": {
          "base_uri": "https://localhost:8080/"
        },
        "id": "ynQSLfAOuLFy",
        "outputId": "8e5360bc-77c6-4af5-83bb-1e88197f0fe3"
      },
      "source": [
        "print(type(bal_sheet))"
      ],
      "execution_count": null,
      "outputs": [
        {
          "output_type": "stream",
          "name": "stdout",
          "text": [
            "<class 'pandas.core.frame.DataFrame'>\n"
          ]
        }
      ]
    },
    {
      "cell_type": "code",
      "metadata": {
        "id": "4VrqJnH10SNa"
      },
      "source": [
        "years = bal_sheet.columns"
      ],
      "execution_count": null,
      "outputs": []
    },
    {
      "cell_type": "code",
      "metadata": {
        "id": "FAdM6bEQvfZd"
      },
      "source": [
        "bal_2021 = bal_sheet[years[0]]"
      ],
      "execution_count": null,
      "outputs": []
    },
    {
      "cell_type": "code",
      "metadata": {
        "colab": {
          "base_uri": "https://localhost:8080/"
        },
        "id": "t79ikDUcz3bG",
        "outputId": "a830fd73-fab9-4b12-d7a9-9ddd093fee6f"
      },
      "source": [
        "bal_2021"
      ],
      "execution_count": null,
      "outputs": [
        {
          "output_type": "execute_result",
          "data": {
            "text/plain": [
              "Breakdown\n",
              "capitalSurplus                  6.051268e+11\n",
              "totalLiab                       1.589064e+13\n",
              "totalStockholderEquity          2.098102e+12\n",
              "minorityInterest                6.327647e+09\n",
              "otherCurrentLiab                1.242419e+11\n",
              "totalAssets                     1.799507e+13\n",
              "commonStock                     5.512776e+09\n",
              "otherCurrentAssets              1.020680e+12\n",
              "retainedEarnings                1.388635e+12\n",
              "otherLiab                       5.709829e+11\n",
              "goodWill                        1.487900e+09\n",
              "treasuryStock                   9.882716e+10\n",
              "otherAssets                     1.209349e+13\n",
              "cash                            3.462435e+11\n",
              "totalCurrentLiabilities         1.398895e+13\n",
              "deferredLongTermAssetCharges    5.541640e+10\n",
              "otherStockholderEquity          9.882716e+10\n",
              "propertyPlantEquipment          5.099563e+10\n",
              "totalCurrentAssets              1.460640e+12\n",
              "longTermInvestments             4.388456e+12\n",
              "netTangibleAssets               2.096614e+12\n",
              "shortTermInvestments            9.320370e+10\n",
              "longTermDebt                    1.330708e+12\n",
              "inventory                       5.125570e+08\n",
              "accountsPayable                 1.333721e+13\n",
              "Name: 2021-03-31 00:00:00, dtype: float64"
            ]
          },
          "metadata": {},
          "execution_count": 40
        }
      ]
    },
    {
      "cell_type": "code",
      "metadata": {
        "id": "O17cijH-173j"
      },
      "source": [
        "tot_current_assets = bal_2021['totalCurrentAssets']"
      ],
      "execution_count": null,
      "outputs": []
    },
    {
      "cell_type": "code",
      "metadata": {
        "colab": {
          "base_uri": "https://localhost:8080/"
        },
        "id": "GZabR8g72nud",
        "outputId": "d6945564-52bb-45f0-af18-673af155615a"
      },
      "source": [
        "print(f\"Total current assets of {company}: {tot_current_assets:,}\")"
      ],
      "execution_count": null,
      "outputs": [
        {
          "output_type": "stream",
          "name": "stdout",
          "text": [
            "Total current assets of HDFC Bank Limited (HDB): 1,460,639,886,000.0\n"
          ]
        }
      ]
    },
    {
      "cell_type": "code",
      "metadata": {
        "id": "U5HxHuPy3RjZ"
      },
      "source": [
        "tot_current_liabilities = bal_2021['totalCurrentLiabilities']"
      ],
      "execution_count": null,
      "outputs": []
    },
    {
      "cell_type": "code",
      "metadata": {
        "colab": {
          "base_uri": "https://localhost:8080/"
        },
        "id": "SY3-fDk938SK",
        "outputId": "b5d6ea32-628d-43de-eb60-5dc20f2c4f6b"
      },
      "source": [
        "print(f\"Total current liabilities of {company}: {tot_current_liabilities:,}\")"
      ],
      "execution_count": null,
      "outputs": [
        {
          "output_type": "stream",
          "name": "stdout",
          "text": [
            "Total current liabilities of HDFC Bank Limited (HDB): 13,988,945,707,000.0\n"
          ]
        }
      ]
    },
    {
      "cell_type": "code",
      "metadata": {
        "colab": {
          "base_uri": "https://localhost:8080/"
        },
        "id": "9r2RyV_04KcP",
        "outputId": "05c8897d-7c67-43f0-8477-ca2ee41e999e"
      },
      "source": [
        "tot_debt = bal_2021['longTermDebt']\n",
        "tot_debt"
      ],
      "execution_count": null,
      "outputs": [
        {
          "output_type": "execute_result",
          "data": {
            "text/plain": [
              "1330708287000.0"
            ]
          },
          "metadata": {},
          "execution_count": 46
        }
      ]
    },
    {
      "cell_type": "code",
      "metadata": {
        "colab": {
          "base_uri": "https://localhost:8080/"
        },
        "id": "iBhZzZfm4zPY",
        "outputId": "7c85054f-bf3e-46fb-9381-e7d1d1eec00a"
      },
      "source": [
        "cash = bal_2021['cash']\n",
        "cash"
      ],
      "execution_count": null,
      "outputs": [
        {
          "output_type": "execute_result",
          "data": {
            "text/plain": [
              "346243540000.0"
            ]
          },
          "metadata": {},
          "execution_count": 45
        }
      ]
    },
    {
      "cell_type": "code",
      "metadata": {
        "id": "dh3v6ZZ04_RF"
      },
      "source": [
        "cash_debt_diffrence = cash - tot_debt"
      ],
      "execution_count": null,
      "outputs": []
    },
    {
      "cell_type": "code",
      "metadata": {
        "colab": {
          "base_uri": "https://localhost:8080/"
        },
        "id": "jFqxdc-H5cVJ",
        "outputId": "075dcf27-e240-4ee2-e401-63950516c64f"
      },
      "source": [
        "print(f\"Cash Debt Difference of {company}: {cash_debt_diffrence:,}\")"
      ],
      "execution_count": null,
      "outputs": [
        {
          "output_type": "stream",
          "name": "stdout",
          "text": [
            "Cash Debt Difference of HDFC Bank Limited (HDB): -984,464,747,000.0\n"
          ]
        }
      ]
    }
  ]
}